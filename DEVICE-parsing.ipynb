{
 "cells": [
  {
   "cell_type": "code",
   "execution_count": 1,
   "id": "1f1c6fc5",
   "metadata": {},
   "outputs": [],
   "source": [
    "#necessary imports\n",
    "import pandas as pd\n",
    "import numpy as np\n",
    "\n",
    "from datetime import datetime"
   ]
  },
  {
   "cell_type": "code",
   "execution_count": 2,
   "id": "4f44d346",
   "metadata": {},
   "outputs": [],
   "source": [
    "#create a dataframe to hold the final parsed values\n",
    "pd.set_option('display.max_rows', None)\n",
    "colnames = [\n",
    "    'user', 'date', 'numPCwithUSBDay', 'numPCwithUSBNight', 'numConnectionDay', \n",
    "    'numConnectionNight', 'numCopy2DeviceDay', 'numCopy2DeviceNight', 'numWrite2DeviceDay',\n",
    "    'numWrite2DeviceNight', 'numCopyFromDeviceDay', 'numCopyFromDeviceNight', 'numWriteFromDeviceDay',\n",
    "    'numWriteFromDeviceNight', 'numDelFromDeviceDay', 'numDelFromDeviceNight', 'numOpenOnPCDay',\n",
    "    'numOpenOnPCNight'\n",
    "]\n",
    "\n",
    "results = pd.DataFrame(columns = colnames)"
   ]
  },
  {
   "cell_type": "code",
   "execution_count": 3,
   "id": "a7fbb353",
   "metadata": {},
   "outputs": [],
   "source": [
    "df = pd.read_csv('device.csv', usecols = ['user'])\n",
    "device_users = df.user.unique().tolist()"
   ]
  },
  {
   "cell_type": "code",
   "execution_count": 4,
   "id": "e3203a74",
   "metadata": {},
   "outputs": [],
   "source": [
    "#file holding separated date file names\n",
    "file = open('file_data/file_files.log', 'r')\n",
    "\n",
    "#loop through date files\n",
    "while True:\n",
    "    line = file.readline().strip()\n",
    "    \n",
    "    #if there is no line, leave the loop\n",
    "    if not line:\n",
    "        break\n",
    "    \n",
    "    #read the needed files\n",
    "    df = pd.read_csv(f'file_data/{line}')\n",
    "    current_date = df.only_date.iloc[0]\n",
    "    device_data = pd.read_csv(f'device_data/device-{current_date}.csv')\n",
    "    \n",
    "    #group the data by user\n",
    "    grouped = df.groupby('user')\n",
    "    \n",
    "    for user, group in grouped:\n",
    "    \n",
    "        numConnectionDay = 0\n",
    "        numConnectionNight = 0\n",
    "\n",
    "        if user in device_users:\n",
    "\n",
    "            numConnectionDay = len(device_data.loc[(device_data.WorkingHours == 'Work Hours') & (device_data.activity == \"Connect\") & (device_data.user == user)])\n",
    "            numConnectionNight = len(device_data.loc[(device_data.WorkingHours == 'Off Hours') & (device_data.activity == \"Connect\") & (device_data.user == user)])\n",
    "\n",
    "\n",
    "        attributes = {\n",
    "            'user' : user,\n",
    "            'date' : current_date,\n",
    "            'numPCwithUSBDay' : len(group.loc[(group.WorkingHours == 'Work Hours') & ((group.to_removable_media == True) | (group.from_removable_media == True))]),\n",
    "            'numPCwithUSBNight' : len(group.loc[(group.WorkingHours == 'Off Hours') & ((group.to_removable_media == True) | (group.from_removable_media == True))]),\n",
    "            'numConnectionDay' : numConnectionDay,\n",
    "            'numConnectionNight' : numConnectionNight,\n",
    "            'numCopy2DeviceDay' : len(group.loc[(group.WorkingHours == 'Work Hours') & (group.activity == 'File Copy') & (group.to_removable_media == True)]),\n",
    "            'numCopy2DeviceNight' : len(group.loc[(group.WorkingHours == 'Off Hours') & (group.activity == 'File Copy') & (group.to_removable_media == True)]),\n",
    "            'numWrite2DeviceDay' : len(group.loc[(group.WorkingHours == 'Work Hours') & (group.activity == 'File Write') & (group.to_removable_media == True)]),\n",
    "            'numWrite2DeviceNight' : len(group.loc[(group.WorkingHours == 'Off Hours') & (group.activity == 'File Write') & (group.to_removable_media == True)]),\n",
    "            'numCopyFromDeviceDay' : len(group.loc[(group.WorkingHours == 'Work Hours') & (group.activity == 'File Copy') & (group.from_removable_media == True)]),\n",
    "            'numCopyFromDeviceNight' : len(group.loc[(group.WorkingHours == 'Off Hours') & (group.activity == 'File Copy') & (group.from_removable_media == True)]),\n",
    "            'numWriteFromDeviceDay' : len(group.loc[(group.WorkingHours == 'Work Hours') & (group.activity == 'File Write') & (group.from_removable_media == True)]),\n",
    "            'numWriteFromDeviceNight' : len(group.loc[(group.WorkingHours == 'Off Hours') & (group.activity == 'File Write') & (group.from_removable_media == True)]),\n",
    "            'numDelFromDeviceDay' : len(group.loc[(group.WorkingHours == 'Work Hours') & (group.activity == 'File Delete') & (group.from_removable_media == True)]),\n",
    "            'numDelFromDeviceNight' : len(group.loc[(group.WorkingHours == 'Off Hours') & (group.activity == 'File Delete') & (group.from_removable_media == True)]),\n",
    "            'numOpenOnPCDay' : len(group.loc[(group.WorkingHours == 'Work Hours') & (group.activity == 'File Open')]),\n",
    "            'numOpenOnPCNight' : len(group.loc[(group.WorkingHours == 'Off Hours') & (group.activity == 'File Open')]),\n",
    "        }\n",
    "\n",
    "        results.loc[len(results)] = [attributes[column] for column in colnames]"
   ]
  },
  {
   "cell_type": "code",
   "execution_count": 12,
   "id": "7f1a73f1",
   "metadata": {},
   "outputs": [],
   "source": [
    "results.to_csv('new_parsed_device.csv')"
   ]
  }
 ],
 "metadata": {
  "kernelspec": {
   "display_name": "Python 3 (ipykernel)",
   "language": "python",
   "name": "python3"
  },
  "language_info": {
   "codemirror_mode": {
    "name": "ipython",
    "version": 3
   },
   "file_extension": ".py",
   "mimetype": "text/x-python",
   "name": "python",
   "nbconvert_exporter": "python",
   "pygments_lexer": "ipython3",
   "version": "3.10.9"
  }
 },
 "nbformat": 4,
 "nbformat_minor": 5
}
